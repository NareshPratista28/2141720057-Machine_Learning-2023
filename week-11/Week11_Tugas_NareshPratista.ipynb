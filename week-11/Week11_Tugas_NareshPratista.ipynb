{
  "nbformat": 4,
  "nbformat_minor": 0,
  "metadata": {
    "colab": {
      "provenance": [],
      "gpuType": "T4"
    },
    "kernelspec": {
      "name": "python3",
      "display_name": "Python 3"
    },
    "language_info": {
      "name": "python"
    },
    "accelerator": "GPU"
  },
  "cells": [
    {
      "cell_type": "markdown",
      "source": [
        "# **Tugas**"
      ],
      "metadata": {
        "id": "5SG4D4fD1f1H"
      }
    },
    {
      "cell_type": "markdown",
      "source": [
        "- Modifikasi model CNN pada praktikum 2 sehingga didapatkan akurasi testing lebih dari 80%.\n",
        "- Buatlah model CNN untuk klasifikasi dataset MNIST."
      ],
      "metadata": {
        "id": "uLk9vhIR1pNo"
      }
    },
    {
      "cell_type": "code",
      "execution_count": null,
      "metadata": {
        "id": "-Y8WFIOR1Z5P"
      },
      "outputs": [],
      "source": [
        "# Import Library\n",
        "\n",
        "import tensorflow as tf\n",
        "from tensorflow.keras import datasets, layers, models\n",
        "import matplotlib.pyplot as plt"
      ]
    },
    {
      "cell_type": "code",
      "source": [
        "# Load CIFAR-10\n",
        "(train_images, train_labels), (test_images, test_labels) = datasets.cifar10.load_data()"
      ],
      "metadata": {
        "colab": {
          "base_uri": "https://localhost:8080/"
        },
        "id": "w1aITWjye2IQ",
        "outputId": "71b180b3-c2e4-44f5-ced3-93e4500b85c2"
      },
      "execution_count": null,
      "outputs": [
        {
          "output_type": "stream",
          "name": "stdout",
          "text": [
            "Downloading data from https://www.cs.toronto.edu/~kriz/cifar-10-python.tar.gz\n",
            "170498071/170498071 [==============================] - 4s 0us/step\n"
          ]
        }
      ]
    },
    {
      "cell_type": "code",
      "source": [
        "# Normalisasi\n",
        "\n",
        "train_images, test_images = train_images / 255.0, test_images / 255.0"
      ],
      "metadata": {
        "id": "yupP9aVvfGvx"
      },
      "execution_count": null,
      "outputs": []
    },
    {
      "cell_type": "code",
      "source": [
        "# Model CNN\n",
        "\n",
        "from tensorflow.keras.layers import BatchNormalization\n",
        "\n",
        "model = models.Sequential()\n",
        "model.add(layers.Conv2D(64,(4,4),input_shape=(32,32,3),activation='relu',padding='same'))\n",
        "model.add(layers.BatchNormalization())\n",
        "model.add(layers.Conv2D(64,(4,4),input_shape=(32,32,3),activation='relu',padding='same'))\n",
        "model.add(layers.BatchNormalization())\n",
        "model.add(layers.MaxPooling2D(pool_size=(2,2)))\n",
        "model.add(layers.Dropout(0.2))\n",
        "model.add(layers.Conv2D(128,(4,4),input_shape=(32,32,3),activation='relu',padding='same'))\n",
        "model.add(layers.BatchNormalization())\n",
        "model.add(layers.Conv2D(128,(4,4),input_shape=(32,32,3),activation='relu',padding='same'))\n",
        "model.add(layers.BatchNormalization())\n",
        "model.add(layers.MaxPooling2D(pool_size=(2,2)))\n",
        "model.add(layers.Dropout(0.25))\n",
        "model.add(layers.Conv2D(128,(4,4),input_shape=(32,32,3),activation='relu',padding='same'))\n",
        "model.add(layers.BatchNormalization())\n",
        "model.add(layers.Conv2D(128,(4,4),input_shape=(32,32,3),activation='relu',padding='same'))\n",
        "model.add(layers.BatchNormalization())\n",
        "model.add(layers.MaxPooling2D(pool_size=(2,2)))\n",
        "model.add(layers.Dropout(0.35))\n",
        "model.add(layers.Flatten())\n",
        "model.add(layers.Dense(256, activation='relu'))\n",
        "model.add(layers.BatchNormalization())\n",
        "model.add(layers.Dropout(0.5))\n",
        "model.add(layers.Dense(10, activation='softmax'))\n",
        "model.summary()"
      ],
      "metadata": {
        "colab": {
          "base_uri": "https://localhost:8080/"
        },
        "id": "gxNbc7mwfPD6",
        "outputId": "e394ad03-33bb-4deb-be3e-24bc3987f19c"
      },
      "execution_count": null,
      "outputs": [
        {
          "output_type": "stream",
          "name": "stdout",
          "text": [
            "Model: \"sequential\"\n",
            "_________________________________________________________________\n",
            " Layer (type)                Output Shape              Param #   \n",
            "=================================================================\n",
            " conv2d (Conv2D)             (None, 32, 32, 64)        3136      \n",
            "                                                                 \n",
            " batch_normalization (Batch  (None, 32, 32, 64)        256       \n",
            " Normalization)                                                  \n",
            "                                                                 \n",
            " conv2d_1 (Conv2D)           (None, 32, 32, 64)        65600     \n",
            "                                                                 \n",
            " batch_normalization_1 (Bat  (None, 32, 32, 64)        256       \n",
            " chNormalization)                                                \n",
            "                                                                 \n",
            " max_pooling2d (MaxPooling2  (None, 16, 16, 64)        0         \n",
            " D)                                                              \n",
            "                                                                 \n",
            " dropout (Dropout)           (None, 16, 16, 64)        0         \n",
            "                                                                 \n",
            " conv2d_2 (Conv2D)           (None, 16, 16, 128)       131200    \n",
            "                                                                 \n",
            " batch_normalization_2 (Bat  (None, 16, 16, 128)       512       \n",
            " chNormalization)                                                \n",
            "                                                                 \n",
            " conv2d_3 (Conv2D)           (None, 16, 16, 128)       262272    \n",
            "                                                                 \n",
            " batch_normalization_3 (Bat  (None, 16, 16, 128)       512       \n",
            " chNormalization)                                                \n",
            "                                                                 \n",
            " max_pooling2d_1 (MaxPoolin  (None, 8, 8, 128)         0         \n",
            " g2D)                                                            \n",
            "                                                                 \n",
            " dropout_1 (Dropout)         (None, 8, 8, 128)         0         \n",
            "                                                                 \n",
            " conv2d_4 (Conv2D)           (None, 8, 8, 128)         262272    \n",
            "                                                                 \n",
            " batch_normalization_4 (Bat  (None, 8, 8, 128)         512       \n",
            " chNormalization)                                                \n",
            "                                                                 \n",
            " conv2d_5 (Conv2D)           (None, 8, 8, 128)         262272    \n",
            "                                                                 \n",
            " batch_normalization_5 (Bat  (None, 8, 8, 128)         512       \n",
            " chNormalization)                                                \n",
            "                                                                 \n",
            " max_pooling2d_2 (MaxPoolin  (None, 4, 4, 128)         0         \n",
            " g2D)                                                            \n",
            "                                                                 \n",
            " dropout_2 (Dropout)         (None, 4, 4, 128)         0         \n",
            "                                                                 \n",
            " flatten (Flatten)           (None, 2048)              0         \n",
            "                                                                 \n",
            " dense (Dense)               (None, 256)               524544    \n",
            "                                                                 \n",
            " batch_normalization_6 (Bat  (None, 256)               1024      \n",
            " chNormalization)                                                \n",
            "                                                                 \n",
            " dropout_3 (Dropout)         (None, 256)               0         \n",
            "                                                                 \n",
            " dense_1 (Dense)             (None, 10)                2570      \n",
            "                                                                 \n",
            "=================================================================\n",
            "Total params: 1517450 (5.79 MB)\n",
            "Trainable params: 1515658 (5.78 MB)\n",
            "Non-trainable params: 1792 (7.00 KB)\n",
            "_________________________________________________________________\n"
          ]
        }
      ]
    },
    {
      "cell_type": "code",
      "source": [
        "# Fit Model\n",
        "\n",
        "from tensorflow.keras.optimizers import Adam\n",
        "from tensorflow.keras.callbacks import LearningRateScheduler\n",
        "\n",
        "initial_learning_rate = 0.001\n",
        "\n",
        "lr_schedule = LearningRateScheduler(lambda epoch: initial_learning_rate * 0.9 ** epoch)\n",
        "\n",
        "# Add this line before model.compile\n",
        "train_images = train_images.reshape((50000, 32, 32, 3))\n",
        "test_images = test_images.reshape((10000, 32, 32, 3))\n",
        "\n",
        "\n",
        "model.compile(optimizer=Adam(learning_rate=initial_learning_rate),\n",
        "              loss=tf.keras.losses.SparseCategoricalCrossentropy(from_logits=True),\n",
        "              metrics=['accuracy'])"
      ],
      "metadata": {
        "id": "EQNW5cCIfXaz"
      },
      "execution_count": null,
      "outputs": []
    },
    {
      "cell_type": "code",
      "source": [
        "history = model.fit(train_images, train_labels, epochs=50,\n",
        "                    validation_data=(test_images, test_labels),\n",
        "                    callbacks=[lr_schedule])"
      ],
      "metadata": {
        "colab": {
          "base_uri": "https://localhost:8080/"
        },
        "id": "vmcQeFEFh029",
        "outputId": "01ec7532-f46c-4509-d5d9-82ac2a69e49f"
      },
      "execution_count": null,
      "outputs": [
        {
          "metadata": {
            "tags": null
          },
          "name": "stdout",
          "output_type": "stream",
          "text": [
            "Epoch 1/50\n"
          ]
        },
        {
          "metadata": {
            "tags": null
          },
          "name": "stderr",
          "output_type": "stream",
          "text": [
            "/usr/local/lib/python3.10/dist-packages/keras/src/backend.py:5729: UserWarning: \"`sparse_categorical_crossentropy` received `from_logits=True`, but the `output` argument was produced by a Softmax activation and thus does not represent logits. Was this intended?\n",
            "  output, from_logits = _get_logits(\n"
          ]
        },
        {
          "output_type": "stream",
          "name": "stdout",
          "text": [
            "1563/1563 [==============================] - 52s 23ms/step - loss: 1.5607 - accuracy: 0.4652 - val_loss: 1.5062 - val_accuracy: 0.4791 - lr: 0.0010\n",
            "Epoch 2/50\n",
            "1563/1563 [==============================] - 35s 23ms/step - loss: 0.9399 - accuracy: 0.6708 - val_loss: 0.9194 - val_accuracy: 0.6889 - lr: 9.0000e-04\n",
            "Epoch 3/50\n",
            "1563/1563 [==============================] - 36s 23ms/step - loss: 0.7388 - accuracy: 0.7458 - val_loss: 0.8102 - val_accuracy: 0.7284 - lr: 8.1000e-04\n",
            "Epoch 4/50\n",
            "1563/1563 [==============================] - 36s 23ms/step - loss: 0.6159 - accuracy: 0.7901 - val_loss: 0.6009 - val_accuracy: 0.7955 - lr: 7.2900e-04\n",
            "Epoch 5/50\n",
            "1563/1563 [==============================] - 35s 22ms/step - loss: 0.5137 - accuracy: 0.8247 - val_loss: 0.6625 - val_accuracy: 0.7783 - lr: 6.5610e-04\n",
            "Epoch 6/50\n",
            "1563/1563 [==============================] - 35s 22ms/step - loss: 0.4375 - accuracy: 0.8505 - val_loss: 0.5218 - val_accuracy: 0.8276 - lr: 5.9049e-04\n",
            "Epoch 7/50\n",
            "1563/1563 [==============================] - 35s 22ms/step - loss: 0.3666 - accuracy: 0.8746 - val_loss: 0.4934 - val_accuracy: 0.8391 - lr: 5.3144e-04\n",
            "Epoch 8/50\n",
            "1563/1563 [==============================] - 36s 23ms/step - loss: 0.3062 - accuracy: 0.8960 - val_loss: 0.5269 - val_accuracy: 0.8375 - lr: 4.7830e-04\n",
            "Epoch 9/50\n",
            "1563/1563 [==============================] - 36s 23ms/step - loss: 0.2597 - accuracy: 0.9109 - val_loss: 0.4801 - val_accuracy: 0.8538 - lr: 4.3047e-04\n",
            "Epoch 10/50\n",
            "1563/1563 [==============================] - 35s 22ms/step - loss: 0.2216 - accuracy: 0.9248 - val_loss: 0.5010 - val_accuracy: 0.8500 - lr: 3.8742e-04\n",
            "Epoch 11/50\n",
            "1563/1563 [==============================] - 36s 23ms/step - loss: 0.1858 - accuracy: 0.9352 - val_loss: 0.4992 - val_accuracy: 0.8596 - lr: 3.4868e-04\n",
            "Epoch 12/50\n",
            "1563/1563 [==============================] - 35s 23ms/step - loss: 0.1565 - accuracy: 0.9462 - val_loss: 0.5101 - val_accuracy: 0.8563 - lr: 3.1381e-04\n",
            "Epoch 13/50\n",
            "1563/1563 [==============================] - 36s 23ms/step - loss: 0.1420 - accuracy: 0.9502 - val_loss: 0.4831 - val_accuracy: 0.8649 - lr: 2.8243e-04\n",
            "Epoch 14/50\n",
            "1563/1563 [==============================] - 36s 23ms/step - loss: 0.1235 - accuracy: 0.9574 - val_loss: 0.5100 - val_accuracy: 0.8627 - lr: 2.5419e-04\n",
            "Epoch 15/50\n",
            "1563/1563 [==============================] - 35s 23ms/step - loss: 0.1061 - accuracy: 0.9635 - val_loss: 0.5122 - val_accuracy: 0.8652 - lr: 2.2877e-04\n",
            "Epoch 16/50\n",
            "1563/1563 [==============================] - 35s 22ms/step - loss: 0.0943 - accuracy: 0.9674 - val_loss: 0.5086 - val_accuracy: 0.8718 - lr: 2.0589e-04\n",
            "Epoch 17/50\n",
            "1563/1563 [==============================] - 35s 22ms/step - loss: 0.0825 - accuracy: 0.9710 - val_loss: 0.5326 - val_accuracy: 0.8660 - lr: 1.8530e-04\n",
            "Epoch 18/50\n",
            "1563/1563 [==============================] - 34s 22ms/step - loss: 0.0734 - accuracy: 0.9752 - val_loss: 0.5342 - val_accuracy: 0.8711 - lr: 1.6677e-04\n",
            "Epoch 19/50\n",
            "1563/1563 [==============================] - 35s 23ms/step - loss: 0.0643 - accuracy: 0.9780 - val_loss: 0.5445 - val_accuracy: 0.8708 - lr: 1.5009e-04\n",
            "Epoch 20/50\n",
            "1563/1563 [==============================] - 35s 22ms/step - loss: 0.0618 - accuracy: 0.9788 - val_loss: 0.5656 - val_accuracy: 0.8677 - lr: 1.3509e-04\n",
            "Epoch 21/50\n",
            "1563/1563 [==============================] - 35s 22ms/step - loss: 0.0586 - accuracy: 0.9794 - val_loss: 0.5617 - val_accuracy: 0.8744 - lr: 1.2158e-04\n",
            "Epoch 22/50\n",
            "1563/1563 [==============================] - 35s 23ms/step - loss: 0.0524 - accuracy: 0.9814 - val_loss: 0.5739 - val_accuracy: 0.8736 - lr: 1.0942e-04\n",
            "Epoch 23/50\n",
            "1563/1563 [==============================] - 35s 23ms/step - loss: 0.0474 - accuracy: 0.9839 - val_loss: 0.5653 - val_accuracy: 0.8743 - lr: 9.8477e-05\n",
            "Epoch 24/50\n",
            "1563/1563 [==============================] - 35s 22ms/step - loss: 0.0443 - accuracy: 0.9849 - val_loss: 0.5862 - val_accuracy: 0.8703 - lr: 8.8629e-05\n",
            "Epoch 25/50\n",
            "1563/1563 [==============================] - 35s 23ms/step - loss: 0.0383 - accuracy: 0.9871 - val_loss: 0.5888 - val_accuracy: 0.8719 - lr: 7.9766e-05\n",
            "Epoch 26/50\n",
            "1563/1563 [==============================] - 35s 23ms/step - loss: 0.0377 - accuracy: 0.9875 - val_loss: 0.6021 - val_accuracy: 0.8729 - lr: 7.1790e-05\n",
            "Epoch 27/50\n",
            "1563/1563 [==============================] - 34s 21ms/step - loss: 0.0342 - accuracy: 0.9881 - val_loss: 0.5898 - val_accuracy: 0.8762 - lr: 6.4611e-05\n",
            "Epoch 28/50\n",
            "1563/1563 [==============================] - 35s 22ms/step - loss: 0.0342 - accuracy: 0.9881 - val_loss: 0.5948 - val_accuracy: 0.8758 - lr: 5.8150e-05\n",
            "Epoch 29/50\n",
            "1563/1563 [==============================] - 35s 23ms/step - loss: 0.0319 - accuracy: 0.9893 - val_loss: 0.5846 - val_accuracy: 0.8747 - lr: 5.2335e-05\n",
            "Epoch 30/50\n",
            "1563/1563 [==============================] - 36s 23ms/step - loss: 0.0317 - accuracy: 0.9889 - val_loss: 0.6002 - val_accuracy: 0.8734 - lr: 4.7101e-05\n",
            "Epoch 31/50\n",
            "1563/1563 [==============================] - 35s 22ms/step - loss: 0.0306 - accuracy: 0.9898 - val_loss: 0.6060 - val_accuracy: 0.8745 - lr: 4.2391e-05\n",
            "Epoch 32/50\n",
            "1563/1563 [==============================] - 35s 22ms/step - loss: 0.0295 - accuracy: 0.9901 - val_loss: 0.6069 - val_accuracy: 0.8753 - lr: 3.8152e-05\n",
            "Epoch 33/50\n",
            "1563/1563 [==============================] - 35s 23ms/step - loss: 0.0271 - accuracy: 0.9910 - val_loss: 0.6066 - val_accuracy: 0.8736 - lr: 3.4337e-05\n",
            "Epoch 34/50\n",
            "1563/1563 [==============================] - 35s 22ms/step - loss: 0.0242 - accuracy: 0.9923 - val_loss: 0.6052 - val_accuracy: 0.8738 - lr: 3.0903e-05\n",
            "Epoch 35/50\n",
            "1563/1563 [==============================] - 35s 23ms/step - loss: 0.0265 - accuracy: 0.9910 - val_loss: 0.6103 - val_accuracy: 0.8751 - lr: 2.7813e-05\n",
            "Epoch 36/50\n",
            "1563/1563 [==============================] - 35s 22ms/step - loss: 0.0250 - accuracy: 0.9917 - val_loss: 0.6093 - val_accuracy: 0.8747 - lr: 2.5032e-05\n",
            "Epoch 37/50\n",
            "1563/1563 [==============================] - 35s 22ms/step - loss: 0.0261 - accuracy: 0.9912 - val_loss: 0.6069 - val_accuracy: 0.8765 - lr: 2.2528e-05\n",
            "Epoch 38/50\n",
            "1563/1563 [==============================] - 35s 23ms/step - loss: 0.0236 - accuracy: 0.9923 - val_loss: 0.6029 - val_accuracy: 0.8767 - lr: 2.0276e-05\n",
            "Epoch 39/50\n",
            "1563/1563 [==============================] - 36s 23ms/step - loss: 0.0226 - accuracy: 0.9924 - val_loss: 0.6071 - val_accuracy: 0.8756 - lr: 1.8248e-05\n",
            "Epoch 40/50\n",
            "1563/1563 [==============================] - 35s 22ms/step - loss: 0.0246 - accuracy: 0.9920 - val_loss: 0.6079 - val_accuracy: 0.8762 - lr: 1.6423e-05\n",
            "Epoch 41/50\n",
            "1563/1563 [==============================] - 35s 22ms/step - loss: 0.0227 - accuracy: 0.9928 - val_loss: 0.6124 - val_accuracy: 0.8739 - lr: 1.4781e-05\n",
            "Epoch 42/50\n",
            "1563/1563 [==============================] - 35s 22ms/step - loss: 0.0225 - accuracy: 0.9924 - val_loss: 0.6117 - val_accuracy: 0.8759 - lr: 1.3303e-05\n",
            "Epoch 43/50\n",
            "1563/1563 [==============================] - 35s 22ms/step - loss: 0.0205 - accuracy: 0.9937 - val_loss: 0.6172 - val_accuracy: 0.8755 - lr: 1.1973e-05\n",
            "Epoch 44/50\n",
            "1563/1563 [==============================] - 35s 23ms/step - loss: 0.0210 - accuracy: 0.9928 - val_loss: 0.6119 - val_accuracy: 0.8757 - lr: 1.0775e-05\n",
            "Epoch 45/50\n",
            "1563/1563 [==============================] - 36s 23ms/step - loss: 0.0206 - accuracy: 0.9932 - val_loss: 0.6161 - val_accuracy: 0.8757 - lr: 9.6977e-06\n",
            "Epoch 46/50\n",
            "1563/1563 [==============================] - 35s 22ms/step - loss: 0.0204 - accuracy: 0.9933 - val_loss: 0.6151 - val_accuracy: 0.8771 - lr: 8.7280e-06\n",
            "Epoch 47/50\n",
            "1563/1563 [==============================] - 35s 23ms/step - loss: 0.0207 - accuracy: 0.9933 - val_loss: 0.6149 - val_accuracy: 0.8764 - lr: 7.8552e-06\n",
            "Epoch 48/50\n",
            "1563/1563 [==============================] - 35s 22ms/step - loss: 0.0209 - accuracy: 0.9934 - val_loss: 0.6203 - val_accuracy: 0.8765 - lr: 7.0697e-06\n",
            "Epoch 49/50\n",
            "1563/1563 [==============================] - 36s 23ms/step - loss: 0.0210 - accuracy: 0.9932 - val_loss: 0.6179 - val_accuracy: 0.8760 - lr: 6.3627e-06\n",
            "Epoch 50/50\n",
            "1563/1563 [==============================] - 35s 22ms/step - loss: 0.0201 - accuracy: 0.9937 - val_loss: 0.6198 - val_accuracy: 0.8758 - lr: 5.7264e-06\n"
          ]
        }
      ]
    },
    {
      "cell_type": "code",
      "source": [
        "# Evaluasi Model\n",
        "\n",
        "plt.plot(history.history['accuracy'], label='accuracy')\n",
        "plt.plot(history.history['val_accuracy'], label = 'val_accuracy')\n",
        "plt.xlabel('Epoch')\n",
        "plt.ylabel('Accuracy')\n",
        "plt.ylim([0.5, 1])\n",
        "plt.legend(loc='lower right')\n",
        "\n",
        "test_loss, test_acc = model.evaluate(test_images,  test_labels, verbose=2)"
      ],
      "metadata": {
        "colab": {
          "base_uri": "https://localhost:8080/",
          "height": 472
        },
        "id": "TdF3UX5jp-Us",
        "outputId": "5a2e05a7-e6a0-4135-9824-c4c923a961ba"
      },
      "execution_count": null,
      "outputs": [
        {
          "output_type": "stream",
          "name": "stdout",
          "text": [
            "313/313 - 3s - loss: 0.6198 - accuracy: 0.8758 - 3s/epoch - 8ms/step\n"
          ]
        },
        {
          "output_type": "display_data",
          "data": {
            "text/plain": [
              "<Figure size 640x480 with 1 Axes>"
            ],
            "image/png": "[encoded data removed]"
          },
          "metadata": {}
        }
      ]
    },
    {
      "cell_type": "markdown",
      "source": [
        "## **Model CNN untuk klasifikasi dataset MNIST.**"
      ],
      "metadata": {
        "id": "uk2XfG02sD3B"
      }
    },
    {
      "cell_type": "code",
      "source": [
        "# Load Library\n",
        "import tensorflow as tf\n",
        "from tensorflow.keras import layers, models\n",
        "from tensorflow.keras.datasets import mnist\n",
        "from tensorflow.keras.utils import to_categorical"
      ],
      "metadata": {
        "id": "SHbiSg-ysDCt"
      },
      "execution_count": 35,
      "outputs": []
    },
    {
      "cell_type": "code",
      "source": [
        "# Load Dataset Mnist\n",
        "(train_images, train_labels), (test_images, test_labels) = mnist.load_data()"
      ],
      "metadata": {
        "id": "sSpwZFkUsepC"
      },
      "execution_count": 36,
      "outputs": []
    },
    {
      "cell_type": "code",
      "source": [
        "# Pre-processing Data\n",
        "train_images = train_images.reshape((60000, 28, 28, 1)).astype('float32') / 255\n",
        "test_images = test_images.reshape((10000, 28, 28, 1)).astype('float32') / 255\n",
        "\n",
        "train_labels = to_categorical(train_labels)\n",
        "test_labels = to_categorical(test_labels)"
      ],
      "metadata": {
        "id": "djH2pFKPspwQ"
      },
      "execution_count": 37,
      "outputs": []
    },
    {
      "cell_type": "code",
      "source": [
        "# Model CNN\n",
        "model = models.Sequential()\n",
        "model.add(layers.Conv2D(32, (3, 3), activation='relu', input_shape=(28, 28, 1)))\n",
        "model.add(layers.MaxPooling2D((2, 2)))\n",
        "model.add(layers.Conv2D(64, (3, 3), activation='relu'))\n",
        "model.add(layers.MaxPooling2D((2, 2)))\n",
        "model.add(layers.Conv2D(64, (3, 3), activation='relu'))\n",
        "model.add(layers.Flatten())\n",
        "model.add(layers.Dense(64, activation='relu'))\n",
        "model.add(layers.Dense(10, activation='softmax'))"
      ],
      "metadata": {
        "id": "cZx4SqQGsxbr"
      },
      "execution_count": 38,
      "outputs": []
    },
    {
      "cell_type": "code",
      "source": [
        "# Compile Model CNN\n",
        "model.compile(optimizer='adam',\n",
        "              loss='categorical_crossentropy',  # Changed to categorical_crossentropy\n",
        "              metrics=['accuracy'])"
      ],
      "metadata": {
        "id": "Oog1kXKVs4BE"
      },
      "execution_count": 39,
      "outputs": []
    },
    {
      "cell_type": "code",
      "source": [
        "# Fit Model\n",
        "history = model.fit(train_images, train_labels, epochs=10, batch_size=64, validation_data=(test_images, test_labels))"
      ],
      "metadata": {
        "colab": {
          "base_uri": "https://localhost:8080/"
        },
        "id": "CQAfYrOUtf1S",
        "outputId": "a47bce94-31ce-4c50-d5e1-0031a811308b"
      },
      "execution_count": 40,
      "outputs": [
        {
          "output_type": "stream",
          "name": "stdout",
          "text": [
            "Epoch 1/10\n",
            "938/938 [==============================] - 8s 7ms/step - loss: 0.2009 - accuracy: 0.9390 - val_loss: 0.0663 - val_accuracy: 0.9792\n",
            "Epoch 2/10\n",
            "938/938 [==============================] - 5s 5ms/step - loss: 0.0556 - accuracy: 0.9827 - val_loss: 0.0390 - val_accuracy: 0.9873\n",
            "Epoch 3/10\n",
            "938/938 [==============================] - 6s 7ms/step - loss: 0.0389 - accuracy: 0.9876 - val_loss: 0.0370 - val_accuracy: 0.9880\n",
            "Epoch 4/10\n",
            "938/938 [==============================] - 5s 6ms/step - loss: 0.0314 - accuracy: 0.9900 - val_loss: 0.0418 - val_accuracy: 0.9872\n",
            "Epoch 5/10\n",
            "938/938 [==============================] - 5s 6ms/step - loss: 0.0252 - accuracy: 0.9918 - val_loss: 0.0353 - val_accuracy: 0.9888\n",
            "Epoch 6/10\n",
            "938/938 [==============================] - 6s 6ms/step - loss: 0.0206 - accuracy: 0.9934 - val_loss: 0.0283 - val_accuracy: 0.9904\n",
            "Epoch 7/10\n",
            "938/938 [==============================] - 5s 5ms/step - loss: 0.0163 - accuracy: 0.9950 - val_loss: 0.0321 - val_accuracy: 0.9899\n",
            "Epoch 8/10\n",
            "938/938 [==============================] - 6s 6ms/step - loss: 0.0139 - accuracy: 0.9955 - val_loss: 0.0301 - val_accuracy: 0.9910\n",
            "Epoch 9/10\n",
            "938/938 [==============================] - 5s 6ms/step - loss: 0.0122 - accuracy: 0.9960 - val_loss: 0.0330 - val_accuracy: 0.9897\n",
            "Epoch 10/10\n",
            "938/938 [==============================] - 5s 6ms/step - loss: 0.0112 - accuracy: 0.9963 - val_loss: 0.0329 - val_accuracy: 0.9910\n"
          ]
        }
      ]
    },
    {
      "cell_type": "code",
      "source": [
        "# Evaluasi Model\n",
        "\n",
        "import matplotlib.pyplot as plt\n",
        "\n",
        "plt.plot(history.history['accuracy'], label='accuracy')\n",
        "plt.plot(history.history['val_accuracy'], label = 'val_accuracy')\n",
        "plt.xlabel('Epoch')\n",
        "plt.ylabel('Accuracy')\n",
        "plt.ylim([0.5, 1])\n",
        "plt.legend(loc='lower right')\n",
        "\n",
        "test_loss, test_acc = model.evaluate(test_images,  test_labels, verbose=2)"
      ],
      "metadata": {
        "colab": {
          "base_uri": "https://localhost:8080/",
          "height": 472
        },
        "id": "UQXQ5FpDyH9O",
        "outputId": "8bca7520-77c4-4162-da72-4eaf09a0ce2a"
      },
      "execution_count": 44,
      "outputs": [
        {
          "output_type": "stream",
          "name": "stdout",
          "text": [
            "313/313 - 1s - loss: 0.0329 - accuracy: 0.9910 - 757ms/epoch - 2ms/step\n"
          ]
        },
        {
          "output_type": "display_data",
          "data": {
            "text/plain": [
              "<Figure size 640x480 with 1 Axes>"
            ],
            "image/png": "[encoded data removed]"
          },
          "metadata": {}
        }
      ]
    },
    {
      "cell_type": "code",
      "source": [
        "# Test Akurasi\n",
        "print(f'Test accuracy: {test_acc}')"
      ],
      "metadata": {
        "colab": {
          "base_uri": "https://localhost:8080/"
        },
        "id": "AGYjLmYCzssv",
        "outputId": "8f1dbe53-1a74-44fa-9637-f83d55bc22a1"
      },
      "execution_count": 45,
      "outputs": [
        {
          "output_type": "stream",
          "name": "stdout",
          "text": [
            "Test accuracy: 0.9909999966621399\n"
          ]
        }
      ]
    }
  ]
}