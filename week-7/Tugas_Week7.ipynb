{
  "nbformat": 4,
  "nbformat_minor": 0,
  "metadata": {
    "colab": {
      "provenance": []
    },
    "kernelspec": {
      "name": "python3",
      "display_name": "Python 3"
    },
    "language_info": {
      "name": "python"
    }
  },
  "cells": [
    {
      "cell_type": "markdown",
      "source": [
        "# **Tugas Praktikum**\n"
      ],
      "metadata": {
        "id": "2QkbWd12sC-R"
      }
    },
    {
      "cell_type": "markdown",
      "source": [
        "Buatlah sebuah model K-Means dengan ketentuan,\n",
        "1. Gunakan data 'Mall_Customers.csv'\n",
        "2. Tentukan fitur apa yang tepat untuk melakukan clustering (minimal 2)\n",
        "3. Buatlah model K-Means dengan mempertimbangkan jumlah  yang terbaik.\n",
        "4. Buatlah  implementasi model SOM untuk segmentasi citra lain"
      ],
      "metadata": {
        "id": "kS87zQi_sS7n"
      }
    },
    {
      "cell_type": "code",
      "execution_count": null,
      "metadata": {
        "id": "KrV2hb2hpWvN"
      },
      "outputs": [],
      "source": []
    }
  ]
}